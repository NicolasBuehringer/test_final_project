{
 "cells": [
  {
   "cell_type": "code",
   "execution_count": 41,
   "id": "678a633a",
   "metadata": {},
   "outputs": [],
   "source": [
    "import pandas as pd\n",
    "import re"
   ]
  },
  {
   "cell_type": "code",
   "execution_count": 23,
   "id": "20b2b993",
   "metadata": {},
   "outputs": [],
   "source": [
    "url = \"https://en.wikipedia.org/wiki/Opinion_polling_for_the_2021_German_federal_election\""
   ]
  },
  {
   "cell_type": "code",
   "execution_count": 24,
   "id": "c9db866c",
   "metadata": {},
   "outputs": [],
   "source": [
    "all_tables = pd.read_html(url)"
   ]
  },
  {
   "cell_type": "code",
   "execution_count": 35,
   "id": "552e2c66",
   "metadata": {},
   "outputs": [],
   "source": [
    "polls_2021 = pd.DataFrame(all_tables[0])\n",
    "polls_2020 = pd.DataFrame(all_tables[1])\n",
    "polls_2019 = pd.DataFrame(all_tables[2])\n",
    "polls_2018 = pd.DataFrame(all_tables[3])\n",
    "polls_2017 = pd.DataFrame(all_tables[4])"
   ]
  },
  {
   "cell_type": "code",
   "execution_count": 36,
   "id": "c025cff5",
   "metadata": {},
   "outputs": [],
   "source": [
    "polls_2021.columns = [x[0] for x in polls_2021.columns]\n",
    "polls_2020.columns = [x[0] for x in polls_2020.columns]\n",
    "polls_2019.columns = [x[0] for x in polls_2019.columns]\n",
    "polls_2018.columns = [x[0] for x in polls_2018.columns]\n",
    "polls_2017.columns = [x[0] for x in polls_2017.columns]"
   ]
  },
  {
   "cell_type": "code",
   "execution_count": 38,
   "id": "ec44e277",
   "metadata": {},
   "outputs": [],
   "source": [
    "\"\"\"polls_2020.to_csv(\"polls_2020\")\n",
    "polls_2019.to_csv(\"polls_2019\")\n",
    "polls_2018.to_csv(\"polls_2018\")\n",
    "polls_2017.to_csv(\"polls_2017\")\"\"\""
   ]
  },
  {
   "cell_type": "code",
   "execution_count": 46,
   "id": "f6f1f4b6",
   "metadata": {},
   "outputs": [],
   "source": [
    "#create helper dict\n",
    "months_dict = {\n",
    "    \"Jan\": \"01\",\n",
    "    \"Feb\": \"02\",\n",
    "    \"Mar\": \"03\",\n",
    "    \"Apr\": \"04\",\n",
    "    \"May\": \"05\",\n",
    "    \"Jun\": \"06\",\n",
    "    \"Jul\": \"07\",\n",
    "    \"Aug\": \"08\",\n",
    "    \"Sep\": \"09\",\n",
    "    \"Okt\": \"10\",\n",
    "    \"Nov\": \"11\",\n",
    "    \"Dec\": \"12\"\n",
    "}\n",
    "\n",
    "#create helper dict\n",
    "days_dict = {\n",
    "    \"Jan\": \"31\",\n",
    "    \"Feb\": \"28\",\n",
    "    \"Mar\": \"31\",\n",
    "    \"Apr\": \"30\",\n",
    "    \"May\": \"31\",\n",
    "    \"Jun\": \"30\",\n",
    "    \"Jul\": \"31\",\n",
    "    \"Aug\": \"31\",\n",
    "    \"Sep\": \"30\",\n",
    "    \"Okt\": \"31\",\n",
    "    \"Nov\": \"30\",\n",
    "    \"Dec\": \"31\"\n",
    "}"
   ]
  },
  {
   "cell_type": "code",
   "execution_count": 44,
   "id": "995bb4ba",
   "metadata": {},
   "outputs": [],
   "source": [
    "dates_2020 = list(polls_2020[\"Fieldwork date\"])"
   ]
  },
  {
   "cell_type": "code",
   "execution_count": 54,
   "id": "79c4d6b2",
   "metadata": {},
   "outputs": [],
   "source": [
    "temp = []\n",
    "for element in dates_2020:\n",
    "    temp.append(element.replace(\"–\", \"-\"))\n",
    "    \n",
    "dates_2020 = temp"
   ]
  },
  {
   "cell_type": "code",
   "execution_count": 74,
   "id": "e92797a1",
   "metadata": {},
   "outputs": [
    {
     "ename": "IndentationError",
     "evalue": "expected an indented block (1693968751.py, line 6)",
     "output_type": "error",
     "traceback": [
      "\u001b[0;36m  File \u001b[0;32m\"/var/folders/34/1yvhb8vj085g3m5tpn1x91d80000gn/T/ipykernel_49473/1693968751.py\"\u001b[0;36m, line \u001b[0;32m6\u001b[0m\n\u001b[0;31m    print(poll)\u001b[0m\n\u001b[0m    ^\u001b[0m\n\u001b[0;31mIndentationError\u001b[0m\u001b[0;31m:\u001b[0m expected an indented block\n"
     ]
    }
   ],
   "source": [
    "def date_range_to_single_day(year):\n",
    "    \n",
    "    whole_year = []\n",
    "    \n",
    "    for poll in year:\n",
    "    print(poll)\n",
    "        \n",
    "        dates = re.findall(r\"\\d+\", \",\".join(re.findall(r\"\\d{1}\\s|\\d{2}\\s|\\d+\\-\\d+\", poll)))\n",
    "        months = re.findall(r\"[A-Z][a-z]{2}\", poll)\n",
    "        year = re.findall(r\"\\d{4}\", poll)\n",
    "        \n",
    "        \n",
    "        \n",
    "        sublist = []\n",
    "        \n",
    "        if len(dates) == 1:\n",
    "            \n",
    "            sublist.append(f\"{dates[0]}/{months_dict[months[0]]}/{year[0]}\")\n",
    "            \n",
    "        else:\n",
    "            \n",
    "            date_range = list(range(dates[0], (int(dates[1]) +1)))\n",
    "            \n",
    "            if date_range:\n",
    "                \n",
    "                for day in date_range:\n",
    "                    \n",
    "                    \n",
    "                    sublist.append(f\"{day}/{months[0]/{year}}\")\n",
    "                    \n",
    "            \n",
    "            else:\n",
    "                \n",
    "                dates_first_month = list(range(dates[0], (months_dict[months[0]] + 1)))\n",
    "                \n",
    "                dates_second_month = list(range(1, (int(dates[1]) +1)))\n",
    "                                          \n",
    "                for day in dates_first_month:\n",
    "                    sublist.append(f\"{day}/{months[0]/{year}}\")\n",
    "                                          \n",
    "                for day in dates_second_month:\n",
    "                    sublist.append(f\"{day}/{months[1]/{year}}\")\n",
    "                                          \n",
    "        whole_year.append(sublist)"
   ]
  },
  {
   "cell_type": "code",
   "execution_count": 75,
   "id": "ebb7d18b",
   "metadata": {},
   "outputs": [
    {
     "ename": "TypeError",
     "evalue": "'str' object cannot be interpreted as an integer",
     "output_type": "error",
     "traceback": [
      "\u001b[0;31m---------------------------------------------------------------------------\u001b[0m",
      "\u001b[0;31mTypeError\u001b[0m                                 Traceback (most recent call last)",
      "\u001b[0;32m/var/folders/34/1yvhb8vj085g3m5tpn1x91d80000gn/T/ipykernel_49473/1053395048.py\u001b[0m in \u001b[0;36m<module>\u001b[0;34m\u001b[0m\n\u001b[0;32m----> 1\u001b[0;31m \u001b[0mdate_range_to_single_day\u001b[0m\u001b[0;34m(\u001b[0m\u001b[0mdates_2020\u001b[0m\u001b[0;34m)\u001b[0m\u001b[0;34m\u001b[0m\u001b[0;34m\u001b[0m\u001b[0m\n\u001b[0m",
      "\u001b[0;32m/var/folders/34/1yvhb8vj085g3m5tpn1x91d80000gn/T/ipykernel_49473/897285507.py\u001b[0m in \u001b[0;36mdate_range_to_single_day\u001b[0;34m(year)\u001b[0m\n\u001b[1;32m     20\u001b[0m         \u001b[0;32melse\u001b[0m\u001b[0;34m:\u001b[0m\u001b[0;34m\u001b[0m\u001b[0;34m\u001b[0m\u001b[0m\n\u001b[1;32m     21\u001b[0m \u001b[0;34m\u001b[0m\u001b[0m\n\u001b[0;32m---> 22\u001b[0;31m             \u001b[0mdate_range\u001b[0m \u001b[0;34m=\u001b[0m \u001b[0mlist\u001b[0m\u001b[0;34m(\u001b[0m\u001b[0mrange\u001b[0m\u001b[0;34m(\u001b[0m\u001b[0mdates\u001b[0m\u001b[0;34m[\u001b[0m\u001b[0;36m0\u001b[0m\u001b[0;34m]\u001b[0m\u001b[0;34m,\u001b[0m \u001b[0;34m(\u001b[0m\u001b[0mint\u001b[0m\u001b[0;34m(\u001b[0m\u001b[0mdates\u001b[0m\u001b[0;34m[\u001b[0m\u001b[0;36m1\u001b[0m\u001b[0;34m]\u001b[0m\u001b[0;34m)\u001b[0m \u001b[0;34m+\u001b[0m\u001b[0;36m1\u001b[0m\u001b[0;34m)\u001b[0m\u001b[0;34m)\u001b[0m\u001b[0;34m)\u001b[0m\u001b[0;34m\u001b[0m\u001b[0;34m\u001b[0m\u001b[0m\n\u001b[0m\u001b[1;32m     23\u001b[0m \u001b[0;34m\u001b[0m\u001b[0m\n\u001b[1;32m     24\u001b[0m             \u001b[0;32mif\u001b[0m \u001b[0mdate_range\u001b[0m\u001b[0;34m:\u001b[0m\u001b[0;34m\u001b[0m\u001b[0;34m\u001b[0m\u001b[0m\n",
      "\u001b[0;31mTypeError\u001b[0m: 'str' object cannot be interpreted as an integer"
     ]
    }
   ],
   "source": [
    "date_range_to_single_day(dates_2020)"
   ]
  }
 ],
 "metadata": {
  "kernelspec": {
   "display_name": "Python 3 (ipykernel)",
   "language": "python",
   "name": "python3"
  },
  "language_info": {
   "codemirror_mode": {
    "name": "ipython",
    "version": 3
   },
   "file_extension": ".py",
   "mimetype": "text/x-python",
   "name": "python",
   "nbconvert_exporter": "python",
   "pygments_lexer": "ipython3",
   "version": "3.8.6"
  },
  "toc": {
   "base_numbering": 1,
   "nav_menu": {},
   "number_sections": true,
   "sideBar": true,
   "skip_h1_title": false,
   "title_cell": "Table of Contents",
   "title_sidebar": "Contents",
   "toc_cell": false,
   "toc_position": {},
   "toc_section_display": true,
   "toc_window_display": false
  }
 },
 "nbformat": 4,
 "nbformat_minor": 5
}
